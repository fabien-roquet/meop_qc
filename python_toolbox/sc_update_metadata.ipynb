{
 "cells": [
  {
   "cell_type": "markdown",
   "metadata": {},
   "source": [
    "# Update metadata using information in table_meta.csv\n",
    "\n",
    "* update location field in table_meta.csv with information in updated_location_Theresa_Keates_june2020\n",
    "* update netcdf files"
   ]
  },
  {
   "cell_type": "code",
   "execution_count": 1,
   "metadata": {},
   "outputs": [],
   "source": [
    "from pathlib import Path\n",
    "import sys\n",
    "import os\n",
    "import shutil\n",
    "import numpy as np\n",
    "import pandas as pd\n",
    "import xarray as xr\n",
    "import matplotlib.pyplot as plt\n",
    "import gsw\n",
    "from IPython.display import display,Image\n",
    "\n",
    "path_MEOP_analyses = os.fspath(Path.home() / 'MEOP_analyses/')\n",
    "if not (path_MEOP_analyses in sys.path):\n",
    "        sys.path.insert(0,path_MEOP_analyses)\n",
    "\n",
    "import importlib\n",
    "import meop\n",
    "importlib.reload(meop)\n",
    "\n",
    "def copy_file(file_name,src_dir,dst_dir):\n",
    "    shutil.copyfile(Path(src_dir)/file_name,Path(dst_dir)/file_name)"
   ]
  },
  {
   "cell_type": "code",
   "execution_count": 80,
   "metadata": {},
   "outputs": [],
   "source": [
    "meta = pd.read_csv(meop.processdir / 'table_meta.csv').set_index('smru_platform_code')"
   ]
  },
  {
   "cell_type": "code",
   "execution_count": 81,
   "metadata": {},
   "outputs": [],
   "source": [
    "meta_update = pd.read_csv(Path('Theresa_Keates_NPac') / 'updated_location_Theresa_Keates_june2020.csv', usecols = ['tag','location'])\n",
    "meta_update.columns = ['smru_platform_code','location']\n",
    "meta_update = meta_update.set_index('smru_platform_code')"
   ]
  },
  {
   "cell_type": "code",
   "execution_count": 132,
   "metadata": {},
   "outputs": [
    {
     "data": {
      "text/html": [
       "<div>\n",
       "<style scoped>\n",
       "    .dataframe tbody tr th:only-of-type {\n",
       "        vertical-align: middle;\n",
       "    }\n",
       "\n",
       "    .dataframe tbody tr th {\n",
       "        vertical-align: top;\n",
       "    }\n",
       "\n",
       "    .dataframe thead th {\n",
       "        text-align: right;\n",
       "    }\n",
       "</style>\n",
       "<table border=\"1\" class=\"dataframe\">\n",
       "  <thead>\n",
       "    <tr style=\"text-align: right;\">\n",
       "      <th></th>\n",
       "      <th>location</th>\n",
       "      <th>reference_doi</th>\n",
       "      <th>species</th>\n",
       "    </tr>\n",
       "    <tr>\n",
       "      <th>smru_platform_code</th>\n",
       "      <th></th>\n",
       "      <th></th>\n",
       "      <th></th>\n",
       "    </tr>\n",
       "  </thead>\n",
       "  <tbody>\n",
       "    <tr>\n",
       "      <th>DL02-C400-16</th>\n",
       "      <td>NaN</td>\n",
       "      <td>NaN</td>\n",
       "      <td>Grey seal</td>\n",
       "    </tr>\n",
       "    <tr>\n",
       "      <th>DL02-C401-16</th>\n",
       "      <td>NaN</td>\n",
       "      <td>NaN</td>\n",
       "      <td>Grey seal</td>\n",
       "    </tr>\n",
       "    <tr>\n",
       "      <th>awru1-A-06</th>\n",
       "      <td>Davis</td>\n",
       "      <td>NaN</td>\n",
       "      <td>Weddell seal</td>\n",
       "    </tr>\n",
       "    <tr>\n",
       "      <th>awru1-B-06</th>\n",
       "      <td>Davis</td>\n",
       "      <td>NaN</td>\n",
       "      <td>Weddell seal</td>\n",
       "    </tr>\n",
       "    <tr>\n",
       "      <th>awru1-C-06</th>\n",
       "      <td>Davis</td>\n",
       "      <td>NaN</td>\n",
       "      <td>Weddell seal</td>\n",
       "    </tr>\n",
       "    <tr>\n",
       "      <th>...</th>\n",
       "      <td>...</td>\n",
       "      <td>...</td>\n",
       "      <td>...</td>\n",
       "    </tr>\n",
       "    <tr>\n",
       "      <th>wd1-10216-06</th>\n",
       "      <td>Davis</td>\n",
       "      <td>NaN</td>\n",
       "      <td>Weddell seal</td>\n",
       "    </tr>\n",
       "    <tr>\n",
       "      <th>wd1-10217-06</th>\n",
       "      <td>Davis</td>\n",
       "      <td>NaN</td>\n",
       "      <td>Weddell seal</td>\n",
       "    </tr>\n",
       "    <tr>\n",
       "      <th>wd1-9497-06</th>\n",
       "      <td>Davis</td>\n",
       "      <td>NaN</td>\n",
       "      <td>Weddell seal</td>\n",
       "    </tr>\n",
       "    <tr>\n",
       "      <th>wd3-CTD2-07</th>\n",
       "      <td>Dumont d'Urville</td>\n",
       "      <td>NaN</td>\n",
       "      <td>Weddell seal</td>\n",
       "    </tr>\n",
       "    <tr>\n",
       "      <th>wd3-CTD3-07</th>\n",
       "      <td>Dumont d'Urville</td>\n",
       "      <td>NaN</td>\n",
       "      <td>Weddell seal</td>\n",
       "    </tr>\n",
       "  </tbody>\n",
       "</table>\n",
       "<p>692 rows × 3 columns</p>\n",
       "</div>"
      ],
      "text/plain": [
       "                            location reference_doi       species\n",
       "smru_platform_code                                              \n",
       "DL02-C400-16                     NaN           NaN     Grey seal\n",
       "DL02-C401-16                     NaN           NaN     Grey seal\n",
       "awru1-A-06                     Davis           NaN  Weddell seal\n",
       "awru1-B-06                     Davis           NaN  Weddell seal\n",
       "awru1-C-06                     Davis           NaN  Weddell seal\n",
       "...                              ...           ...           ...\n",
       "wd1-10216-06                   Davis           NaN  Weddell seal\n",
       "wd1-10217-06                   Davis           NaN  Weddell seal\n",
       "wd1-9497-06                    Davis           NaN  Weddell seal\n",
       "wd3-CTD2-07         Dumont d'Urville           NaN  Weddell seal\n",
       "wd3-CTD3-07         Dumont d'Urville           NaN  Weddell seal\n",
       "\n",
       "[692 rows x 3 columns]"
      ]
     },
     "execution_count": 132,
     "metadata": {},
     "output_type": "execute_result"
    }
   ],
   "source": [
    "meta_combined = meta_update.combine_first(meta)\n",
    "meta_combined"
   ]
  },
  {
   "cell_type": "code",
   "execution_count": 133,
   "metadata": {},
   "outputs": [],
   "source": [
    "meta_combined.to_csv(meop.processdir / 'table_meta.csv')"
   ]
  },
  {
   "cell_type": "markdown",
   "metadata": {},
   "source": [
    "# Update metadata in ncfiles"
   ]
  },
  {
   "cell_type": "code",
   "execution_count": 160,
   "metadata": {},
   "outputs": [],
   "source": [
    "def update_metadata(path_meta = meop.processdir / 'table_meta.csv', EXP='',one_smru_name=''):\n",
    "\n",
    "    import netCDF4\n",
    "\n",
    "    df_meta = pd.read_csv(path_meta).set_index('smru_platform_code')\n",
    "\n",
    "    if one_smru_name in df_meta.index:\n",
    "        df_meta = df_meta.loc[[one_smru_name],:]\n",
    "    elif EXP:\n",
    "        df_meta['EXP'] = df_meta.index\n",
    "        df_meta['EXP'] = df_meta.EXP.str.split('-').apply(lambda x: x[0])\n",
    "        df_meta = df_meta.loc[df_meta.EXP == EXP,:]\n",
    "\n",
    "    modes = ['lr0','lr1','hr0','hr1','fr0','fr1']\n",
    "    for tag in df_meta.index:\n",
    "\n",
    "        meta_row = df_meta.loc[tag,:].dropna()\n",
    "\n",
    "        for qf in modes:\n",
    "\n",
    "            name_prof = meop.fname_prof(tag,qf=qf)        \n",
    "            if Path(name_prof).exists():\n",
    "\n",
    "                with netCDF4.Dataset(name_prof,'a') as f:\n",
    "                    for col in meta_row.keys():\n",
    "                        if f.location != meta_row[col]:\n",
    "                            f.location = meta_row[col]\n",
    "\n",
    "    return\n",
    "\n",
    "update_metadata()"
   ]
  },
  {
   "cell_type": "code",
   "execution_count": null,
   "metadata": {},
   "outputs": [],
   "source": []
  }
 ],
 "metadata": {
  "kernelspec": {
   "display_name": "Python 3",
   "language": "python",
   "name": "python3"
  },
  "language_info": {
   "codemirror_mode": {
    "name": "ipython",
    "version": 3
   },
   "file_extension": ".py",
   "mimetype": "text/x-python",
   "name": "python",
   "nbconvert_exporter": "python",
   "pygments_lexer": "ipython3",
   "version": "3.7.8"
  }
 },
 "nbformat": 4,
 "nbformat_minor": 4
}
