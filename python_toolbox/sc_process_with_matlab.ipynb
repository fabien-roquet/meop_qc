{
 "cells": [
  {
   "cell_type": "markdown",
   "metadata": {},
   "source": [
    "# Set of tools and function to use Matlab MEOP scripts within python"
   ]
  },
  {
   "cell_type": "code",
   "execution_count": 2,
   "metadata": {},
   "outputs": [],
   "source": [
    "# init matlab\n",
    "import matlab.engine\n",
    "import io"
   ]
  },
  {
   "cell_type": "code",
   "execution_count": 3,
   "metadata": {},
   "outputs": [
    {
     "data": {
      "text/plain": [
       "<module 'meop' from '/home/jupyter-froqu/MEOP_analyses/meop.py'>"
      ]
     },
     "execution_count": 3,
     "metadata": {},
     "output_type": "execute_result"
    }
   ],
   "source": [
    "from pathlib import Path\n",
    "import sys\n",
    "import os\n",
    "import numpy as np\n",
    "import pandas as pd\n",
    "import xarray as xr\n",
    "import matplotlib.pyplot as plt\n",
    "import gsw\n",
    "from IPython.display import display,Image\n",
    "\n",
    "path_MEOP_analyses = os.fspath(Path.home() / 'MEOP_analyses/')\n",
    "if not (path_MEOP_analyses in sys.path):\n",
    "        sys.path.insert(0,path_MEOP_analyses)\n",
    "\n",
    "import importlib\n",
    "import meop\n",
    "importlib.reload(meop)"
   ]
  },
  {
   "cell_type": "code",
   "execution_count": 4,
   "metadata": {},
   "outputs": [],
   "source": [
    "def start_matlab(eng=[]):\n",
    "    # Start matlab iif not already started\n",
    "    try:\n",
    "        eng.eval(\"disp('matlab already started')\",nargout=0)\n",
    "        print('matlab already started')\n",
    "        print('PWD:',eng.pwd())\n",
    "    except:\n",
    "        eng = matlab.engine.start_matlab()\n",
    "        print('matlab started')\n",
    "        print('PWD:',eng.pwd())\n",
    "    return eng\n",
    "\n",
    "def print_matlab(namevar):\n",
    "    with io.StringIO() as out:\n",
    "        eng.eval(namevar,nargout=0,stdout=out,stderr=out)\n",
    "        print(out.getvalue())\n",
    "    \n",
    "def run_command(cmd,verbose=True):\n",
    "    # execute a matlab command\n",
    "    with io.StringIO() as out, io.StringIO() as err:\n",
    "        try:\n",
    "            print(cmd)\n",
    "            eng.eval(cmd,nargout=0,stdout=out,stderr=err)\n",
    "            if verbose:\n",
    "                print(out.getvalue())\n",
    "            return True\n",
    "        except:\n",
    "            if verbose:\n",
    "                print(err.getvalue())\n",
    "            return False"
   ]
  },
  {
   "cell_type": "code",
   "execution_count": 5,
   "metadata": {},
   "outputs": [],
   "source": [
    "# init mirounga and load conf\n",
    "def init_mirounga():\n",
    "    eng.addpath(str(processdir))\n",
    "    conf = eng.eval(\"init_config();\",nargout=1)\n",
    "    run_command(\"conf = init_mirounga;\")\n",
    "    return conf"
   ]
  },
  {
   "cell_type": "code",
   "execution_count": 6,
   "metadata": {},
   "outputs": [],
   "source": [
    "def load_info_deployment(EXP='',one_smru_name=''):\n",
    "    init_mirounga()\n",
    "    eng.workspace['EXP'] = EXP\n",
    "    eng.workspace['one_smru_name'] = one_smru_name\n",
    "    eng.eval(\"info_deployment=load_info_deployment(conf,EXP,one_smru_name);\",nargout=0)"
   ]
  },
  {
   "cell_type": "code",
   "execution_count": 7,
   "metadata": {},
   "outputs": [],
   "source": [
    "def process_single_deployment(EXP=''):\n",
    "    load_info_deployment(EXP=EXP)\n",
    "    if eng.eval(\"isfield(info_deployment,'invalid_code')\") and eng.eval(\"info_deployment.invalid_code\"):\n",
    "        return False\n",
    "    if not run_command(\"remove_deployment(conf,EXP);\"):\n",
    "        return False\n",
    "    if not run_command(\"create_ncargo(conf,EXP);\"):\n",
    "        return False\n",
    "    if not run_command(\"create_fr0(conf,EXP);\"):\n",
    "        return False\n",
    "    if not run_command(\"update_metadata(conf,EXP);\"):\n",
    "        return False\n",
    "    if not run_command(\"apply_adjustments(conf,EXP);\"):\n",
    "        return False\n",
    "    if not run_command(\"apply_tlc(conf,EXP);\"):\n",
    "        return False\n",
    "    if not run_command(\"apply_tlc_fr(conf,EXP);\"):\n",
    "        return False\n",
    "    if not run_command(\"create_hr2(conf,EXP);\"):\n",
    "        return False\n",
    "    return True"
   ]
  },
  {
   "cell_type": "code",
   "execution_count": 8,
   "metadata": {},
   "outputs": [],
   "source": [
    "def process_single_tag(one_smru_name=''):\n",
    "    load_info_deployment(one_smru_name=one_smru_name)\n",
    "    if eng.eval(\"isfield(info_deployment,'invalid_code')\") and eng.eval(\"info_deployment.invalid_code\"):\n",
    "        return False\n",
    "    if not run_command(\"create_ncargo(conf,EXP,one_smru_name);\"):\n",
    "        return False\n",
    "    if not run_command(\"create_fr0(conf,EXP,one_smru_name);\"):\n",
    "        return False\n",
    "    if not run_command(\"update_metadata(conf,EXP,one_smru_name);\"):\n",
    "        return False\n",
    "    if not run_command(\"apply_adjustments(conf,EXP,one_smru_name);\"):\n",
    "        return False\n",
    "    if not run_command(\"apply_tlc(conf,EXP,one_smru_name);\"):\n",
    "        return False\n",
    "    if not run_command(\"apply_tlc_fr(conf,EXP,one_smru_name);\"):\n",
    "        return False\n",
    "    if not run_command(\"create_hr2(conf,EXP,one_smru_name);\"):\n",
    "        return False\n",
    "    return True"
   ]
  },
  {
   "cell_type": "code",
   "execution_count": 9,
   "metadata": {},
   "outputs": [],
   "source": [
    "# function which updates metadata based on info_meta.csv file\n",
    "def update_metadata(EXP='',one_smru_name=''):\n",
    "\n",
    "    import netCDF4\n",
    "\n",
    "    df_meta = pd.read_csv(meop.processdir / 'table_meta.csv').set_index('smru_platform_code')\n",
    "\n",
    "    if one_smru_name in df_meta.index:\n",
    "        df_meta = df_meta.loc[[one_smru_name],:]\n",
    "    elif EXP:\n",
    "        df_meta['EXP'] = df_meta.index\n",
    "        df_meta['EXP'] = df_meta.EXP.str.split('-').apply(lambda x: x[0])\n",
    "        df_meta = df_meta.loc[df_meta.EXP == EXP,:]\n",
    "\n",
    "    modes = ['lr0','lr1','hr0','hr1','fr0','fr1']\n",
    "    for tag in df_meta.index:\n",
    "\n",
    "        meta_row = df_meta.loc[tag,:].dropna()\n",
    "\n",
    "        for qf in modes:\n",
    "\n",
    "            name_prof = meop.fname_prof(tag,qf=qf)        \n",
    "            if Path(name_prof).exists():\n",
    "\n",
    "                with netCDF4.Dataset(name_prof,'a') as f:\n",
    "                    for col in meta_row.keys():\n",
    "                        if f.location != meta_row[col]:\n",
    "                            f.location = meta_row[col]\n",
    "\n"
   ]
  },
  {
   "cell_type": "markdown",
   "metadata": {},
   "source": [
    "# Code to process data"
   ]
  },
  {
   "cell_type": "code",
   "execution_count": 10,
   "metadata": {},
   "outputs": [
    {
     "name": "stdout",
     "output_type": "stream",
     "text": [
      "matlab started\n",
      "PWD: /home/jupyter-froqu/MEOP_analyses\n"
     ]
    },
    {
     "ename": "NameError",
     "evalue": "name 'processdir' is not defined",
     "output_type": "error",
     "traceback": [
      "\u001b[0;31m---------------------------------------------------------------------------\u001b[0m",
      "\u001b[0;31mNameError\u001b[0m                                 Traceback (most recent call last)",
      "\u001b[0;32m<ipython-input-10-001d366270c7>\u001b[0m in \u001b[0;36m<module>\u001b[0;34m\u001b[0m\n\u001b[1;32m      3\u001b[0m \u001b[0;32mexcept\u001b[0m\u001b[0;34m:\u001b[0m\u001b[0;34m\u001b[0m\u001b[0;34m\u001b[0m\u001b[0m\n\u001b[1;32m      4\u001b[0m     \u001b[0meng\u001b[0m \u001b[0;34m=\u001b[0m \u001b[0mstart_matlab\u001b[0m\u001b[0;34m(\u001b[0m\u001b[0;34m)\u001b[0m\u001b[0;34m\u001b[0m\u001b[0;34m\u001b[0m\u001b[0m\n\u001b[0;32m----> 5\u001b[0;31m \u001b[0mconf\u001b[0m \u001b[0;34m=\u001b[0m \u001b[0minit_mirounga\u001b[0m\u001b[0;34m(\u001b[0m\u001b[0;34m)\u001b[0m\u001b[0;34m\u001b[0m\u001b[0;34m\u001b[0m\u001b[0m\n\u001b[0m",
      "\u001b[0;32m<ipython-input-5-5e80a3d86ba1>\u001b[0m in \u001b[0;36minit_mirounga\u001b[0;34m()\u001b[0m\n\u001b[1;32m      1\u001b[0m \u001b[0;31m# init mirounga and load conf\u001b[0m\u001b[0;34m\u001b[0m\u001b[0;34m\u001b[0m\u001b[0;34m\u001b[0m\u001b[0m\n\u001b[1;32m      2\u001b[0m \u001b[0;32mdef\u001b[0m \u001b[0minit_mirounga\u001b[0m\u001b[0;34m(\u001b[0m\u001b[0;34m)\u001b[0m\u001b[0;34m:\u001b[0m\u001b[0;34m\u001b[0m\u001b[0;34m\u001b[0m\u001b[0m\n\u001b[0;32m----> 3\u001b[0;31m     \u001b[0meng\u001b[0m\u001b[0;34m.\u001b[0m\u001b[0maddpath\u001b[0m\u001b[0;34m(\u001b[0m\u001b[0mstr\u001b[0m\u001b[0;34m(\u001b[0m\u001b[0mprocessdir\u001b[0m\u001b[0;34m)\u001b[0m\u001b[0;34m)\u001b[0m\u001b[0;34m\u001b[0m\u001b[0;34m\u001b[0m\u001b[0m\n\u001b[0m\u001b[1;32m      4\u001b[0m     \u001b[0mconf\u001b[0m \u001b[0;34m=\u001b[0m \u001b[0meng\u001b[0m\u001b[0;34m.\u001b[0m\u001b[0meval\u001b[0m\u001b[0;34m(\u001b[0m\u001b[0;34m\"init_config();\"\u001b[0m\u001b[0;34m,\u001b[0m\u001b[0mnargout\u001b[0m\u001b[0;34m=\u001b[0m\u001b[0;36m1\u001b[0m\u001b[0;34m)\u001b[0m\u001b[0;34m\u001b[0m\u001b[0;34m\u001b[0m\u001b[0m\n\u001b[1;32m      5\u001b[0m     \u001b[0mrun_command\u001b[0m\u001b[0;34m(\u001b[0m\u001b[0;34m\"conf = init_mirounga;\"\u001b[0m\u001b[0;34m)\u001b[0m\u001b[0;34m\u001b[0m\u001b[0;34m\u001b[0m\u001b[0m\n",
      "\u001b[0;31mNameError\u001b[0m: name 'processdir' is not defined"
     ]
    }
   ],
   "source": [
    "try:\n",
    "    eng = start_matlab(eng)\n",
    "except:\n",
    "    eng = start_matlab()\n",
    "conf = init_mirounga()"
   ]
  },
  {
   "cell_type": "code",
   "execution_count": 9,
   "metadata": {},
   "outputs": [],
   "source": [
    "EXP = 'ct107'\n",
    "load_info_deployment(EXP=EXP)\n",
    "print_matlab(\"info_deployment\")\n",
    "process_single_deployment(EXP)\n",
    "run_command(\"generate_plot1(conf,EXP);\")\n",
    "run_command(\"generate_plot2(conf,EXP);\")"
   ]
  },
  {
   "cell_type": "code",
   "execution_count": 34,
   "metadata": {},
   "outputs": [
    {
     "name": "stdout",
     "output_type": "stream",
     "text": [
      "conf = init_mirounga;\n",
      "\n",
      "create_ncargo(conf,EXP,one_smru_name);\n",
      "Process smru_name=ct107-933-13\n",
      "\t24 tags\n",
      "\t4902 profiles\n",
      "  ct107-933-13: 0 profiles and 0 Sprofiles removed\n",
      "SMRU ct107-933-13, PTT   133774: use crawl locations\n",
      "\n",
      "create_fr0(conf,EXP,one_smru_name);\n",
      "Process hr smru_name=ct107-933-13\n",
      "  SMRU ct107-933-13, PTT   133774: use crawl locations for fr data\n",
      "  Date issue in ct107-933-13 hr data, 12933 instr_id: 1 profiles removed\n",
      "  ct107-933-13: hr tags with 475 profiles\n",
      "  ct107-933-13: 0 profiles and 0 Sprofiles removed\n",
      "\n",
      "update_metadata(conf,EXP,one_smru_name);\n",
      "\n",
      "apply_adjustments(conf,EXP,one_smru_name);\n",
      "\n",
      "apply_tlc(conf,EXP,one_smru_name);\n",
      "\n",
      "apply_tlc_fr(conf,EXP,one_smru_name);\n",
      "\n",
      "create_hr2(conf,EXP,one_smru_name);\n",
      "Create hr2 version [by default, hr1 --> hr2]\n",
      "  ct107-933-13: high resolution fr1 --> hr2\n",
      "\n",
      "generate_plot1(conf,EXP,one_smru_name);\n",
      "calibration plots: ct107-933-13\n",
      "\n",
      "generate_plot2(conf,EXP,one_smru_name);\n",
      "plot diag ct107: lr0, raw\n",
      "plot diag ct107: lr1, adj\n",
      "plot diag ct107: hr1, adj\n",
      "plot diag ct107: hr2, adj\n",
      "plot diag ct107: fr1, adj\n",
      "\n"
     ]
    },
    {
     "data": {
      "text/plain": [
       "True"
      ]
     },
     "execution_count": 34,
     "metadata": {},
     "output_type": "execute_result"
    }
   ],
   "source": [
    "one_smru_name='ct107-933-13'\n",
    "process_single_tag(one_smru_name=one_smru_name)\n",
    "run_command(\"generate_plot1(conf,EXP,one_smru_name);\")\n",
    "run_command(\"generate_plot2(conf,EXP,one_smru_name);\")"
   ]
  },
  {
   "cell_type": "code",
   "execution_count": 245,
   "metadata": {},
   "outputs": [],
   "source": [
    "eng.quit()"
   ]
  },
  {
   "cell_type": "code",
   "execution_count": null,
   "metadata": {},
   "outputs": [],
   "source": []
  }
 ],
 "metadata": {
  "kernelspec": {
   "display_name": "Python 3",
   "language": "python",
   "name": "python3"
  },
  "language_info": {
   "codemirror_mode": {
    "name": "ipython",
    "version": 3
   },
   "file_extension": ".py",
   "mimetype": "text/x-python",
   "name": "python",
   "nbconvert_exporter": "python",
   "pygments_lexer": "ipython3",
   "version": "3.7.8"
  }
 },
 "nbformat": 4,
 "nbformat_minor": 4
}
