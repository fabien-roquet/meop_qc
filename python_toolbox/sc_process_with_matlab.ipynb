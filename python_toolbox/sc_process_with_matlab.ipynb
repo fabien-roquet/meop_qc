{
 "cells": [
  {
   "cell_type": "markdown",
   "metadata": {},
   "source": [
    "# Set of tools and function to use Matlab MEOP scripts within python"
   ]
  },
  {
   "cell_type": "code",
   "execution_count": 1,
   "metadata": {},
   "outputs": [],
   "source": [
    "import meop_process\n",
    "from pathlib import Path\n",
    "import sys\n",
    "import os\n",
    "import shutil\n",
    "import numpy as np\n",
    "import pandas as pd\n",
    "import xarray as xr\n",
    "import matplotlib.pyplot as plt\n",
    "import gsw\n",
    "from IPython.display import display,Image\n",
    "from importlib import reload\n",
    "import meop"
   ]
  },
  {
   "cell_type": "markdown",
   "metadata": {},
   "source": [
    "# Code to process data"
   ]
  },
  {
   "cell_type": "code",
   "execution_count": 44,
   "metadata": {},
   "outputs": [
    {
     "name": "stdout",
     "output_type": "stream",
     "text": [
      "matlab started\n",
      "PWD: /home/jupyter-froqu/GitHub/meop_qc/python_toolbox\n"
     ]
    }
   ],
   "source": [
    "meop_process.start_matlab()"
   ]
  },
  {
   "cell_type": "code",
   "execution_count": 45,
   "metadata": {},
   "outputs": [
    {
     "name": "stdout",
     "output_type": "stream",
     "text": [
      "conf = init_mirounga;\n",
      "\n"
     ]
    }
   ],
   "source": [
    "conf = meop_process.init_mirounga()"
   ]
  },
  {
   "cell_type": "code",
   "execution_count": 46,
   "metadata": {},
   "outputs": [
    {
     "name": "stdout",
     "output_type": "stream",
     "text": [
      "conf = init_mirounga;\n",
      "\n",
      "\n",
      "info_deployment = \n",
      "\n",
      "  struct with fields:\n",
      "\n",
      "               EXP: 'ct107'\n",
      "                PI: 'COSTA'\n",
      "            NATION: 'USA'\n",
      "            nomfic: 'ct107_ODV.txt'\n",
      "               dir: '/home/jupyter-froqu/MEOP_process/final_dataset_prof/ct107/'\n",
      "           process: 1\n",
      "            public: 1\n",
      "          list_tag: [24x1 struct]\n",
      "      list_tag_lr0: [24x1 struct]\n",
      "      list_tag_lr1: [0x1 struct]\n",
      "      list_tag_hr0: [24x1 struct]\n",
      "      list_tag_hr1: [1x1 struct]\n",
      "      list_tag_hr2: [0x1 struct]\n",
      "      list_tag_fr0: [11x1 struct]\n",
      "      list_tag_fr1: [0x1 struct]\n",
      "    list_smru_name: {1x24 cell}\n",
      "\n",
      "\n"
     ]
    }
   ],
   "source": [
    "EXP = 'ct107'\n",
    "meop_process.load_info_deployment(EXP=EXP)\n",
    "meop_process.print_matlab(\"info_deployment\")"
   ]
  },
  {
   "cell_type": "code",
   "execution_count": 48,
   "metadata": {},
   "outputs": [
    {
     "name": "stdout",
     "output_type": "stream",
     "text": [
      "conf = init_mirounga;\n",
      "\n",
      "remove_deployment(conf,EXP);\n",
      "\n",
      "create_ncargo(conf,EXP);\n",
      "Process EXP=ct107\n",
      "\t24 tags\n",
      "\t4902 profiles\n",
      "  ct107-933-13: 0 profiles and 0 Sprofiles removed\n",
      "Tag ct107-933b-13 lr0 removed\n",
      "  ct107-933b-13: 0 profiles and 0 Sprofiles removed\n",
      "  ct107-934-13-N1: 0 profiles and 0 Sprofiles removed\n",
      "  ct107-934-13-N2: 0 profiles and 0 Sprofiles removed\n",
      "  ct107-938-13-N1: 0 profiles and 0 Sprofiles removed\n",
      "  ct107-938-13-N2: 0 profiles and 129 Sprofiles removed\n",
      "  ct107-940-13: 0 profiles and 0 Sprofiles removed\n",
      "  ct107-941-13-N1: 0 profiles and 0 Sprofiles removed\n",
      "  ct107-941-13-N2: 0 profiles and 234 Sprofiles removed\n",
      "  ct107-947-13-N1: 0 profiles and 0 Sprofiles removed\n",
      "  ct107-947-13-N2: 0 profiles and 0 Sprofiles removed\n",
      "  ct107-950-13-N1: 0 profiles and 0 Sprofiles removed\n",
      "  ct107-950-13-N2: 0 profiles and 236 Sprofiles removed\n",
      "  ct107-951-13-N1: 0 profiles and 0 Sprofiles removed\n",
      "  ct107-951-13-N2: 0 profiles and 0 Sprofiles removed\n",
      "  ct107-952-13-N1: 0 profiles and 0 Sprofiles removed\n",
      "  ct107-952-13-N2: 0 profiles and 0 Sprofiles removed\n",
      "  ct107-953-13-N1: 0 profiles and 0 Sprofiles removed\n",
      "  ct107-953-13-N2: 0 profiles and 273 Sprofiles removed\n",
      "Tag ct107-F945-13 lr0 removed\n",
      "  ct107-F945-13: 0 profiles and 2 Sprofiles removed\n",
      "  ct107-F946-13-N1: 0 profiles and 1 Sprofiles removed\n",
      "  ct107-F946-13-N2: 0 profiles and 0 Sprofiles removed\n",
      "  ct107-F954-14: 0 profiles and 0 Sprofiles removed\n",
      "  ct107-F995-14: 0 profiles and 0 Sprofiles removed\n",
      "SMRU ct107-933-13, PTT   133774: use crawl locations\n",
      "SMRU ct107-933b-13, PTT   133774: use crawl locations\n",
      "SMRU ct107-934-13-N1, PTT   133772: use crawl locations\n",
      "SMRU ct107-941-13-N1, PTT   133776: use crawl locations\n",
      "SMRU ct107-947-13-N1, PTT   133775: use crawl locations\n",
      "SMRU ct107-950-13-N1, PTT   133777: use crawl locations\n",
      "SMRU ct107-951-13-N1, PTT   133780: use crawl locations\n",
      "SMRU ct107-F946-13-N1, PTT   133782: use crawl locations\n",
      "SMRU ct107-F995-14, PTT   137447: use crawl locations\n",
      "\n",
      "create_fr0(conf,EXP);\n",
      "Process hr smru_name=ct107-933-13\n",
      "  SMRU ct107-933-13, PTT   133774: use crawl locations for fr data\n",
      "  Date issue in ct107-933-13 hr data, 12933 instr_id: 1 profiles removed\n",
      "  ct107-933-13: hr tags with 475 profiles\n",
      "  ct107-933-13: 0 profiles and 0 Sprofiles removed\n",
      "Process hr smru_name=ct107-934-13-N1\n",
      "  SMRU ct107-934-13-N1, PTT   133772: use crawl locations for fr data\n",
      "  Date issue in ct107-934-13-N1 hr data, 12934 instr_id: 1 profiles removed\n",
      "  ct107-934-13-N1: hr tags with 452 profiles\n",
      "  ct107-934-13-N1: 1 profiles and 0 Sprofiles removed\n",
      "Process hr smru_name=ct107-938-13-N2\n",
      "  SMRU ct107-938-13-N2, PTT   133773: use smru locations for fr data\n",
      "  Date issue in ct107-938-13-N2 hr data, 12938 instr_id: 41 profiles removed\n",
      "  ct107-938-13-N2: hr tags with 1354 profiles\n",
      "  ct107-938-13-N2: 6 profiles and 670 Sprofiles removed\n",
      "Process hr smru_name=ct107-941-13-N1\n",
      "  SMRU ct107-941-13-N1, PTT   133776: use crawl locations for fr data\n",
      "  Date issue in ct107-941-13-N1 hr data, 12941 instr_id: 1 profiles removed\n",
      "  ct107-941-13-N1: hr tags with 572 profiles\n",
      "  ct107-941-13-N1: 0 profiles and 0 Sprofiles removed\n",
      "Process hr smru_name=ct107-947-13-N1\n",
      "  SMRU ct107-947-13-N1, PTT   133775: use crawl locations for fr data\n",
      "  Date issue in ct107-947-13-N1 hr data, 12947 instr_id: 1 profiles removed\n",
      "  ct107-947-13-N1: hr tags with 468 profiles\n",
      "  ct107-947-13-N1: 0 profiles and 0 Sprofiles removed\n",
      "Process hr smru_name=ct107-950-13-N1\n",
      "  SMRU ct107-950-13-N1, PTT   133777: use crawl locations for fr data\n",
      "  Date issue in ct107-950-13-N1 hr data, 12950 instr_id: 1 profiles removed\n",
      "  ct107-950-13-N1: hr tags with 448 profiles\n",
      "  ct107-950-13-N1: 0 profiles and 0 Sprofiles removed\n",
      "Process hr smru_name=ct107-951-13-N1\n",
      "  SMRU ct107-951-13-N1, PTT   133780: use crawl locations for fr data\n",
      "  Date issue in ct107-951-13-N1 hr data, 12951 instr_id: 1 profiles removed\n",
      "  ct107-951-13-N1: hr tags with 441 profiles\n",
      "  ct107-951-13-N1: 0 profiles and 0 Sprofiles removed\n",
      "Process hr smru_name=ct107-952-13-N1\n",
      "  SMRU ct107-952-13-N1, PTT   133771: use smru locations for fr data\n",
      "  Date issue in ct107-952-13-N1 hr data, 12952 instr_id: 1 profiles removed\n",
      "  ct107-952-13-N1: hr tags with 710 profiles\n",
      "  ct107-952-13-N1: 0 profiles and 0 Sprofiles removed\n",
      "Process hr smru_name=ct107-953-13-N2\n",
      "  SMRU ct107-953-13-N2, PTT   133778: use smru locations for fr data\n",
      "  Date issue in ct107-953-13-N2 hr data, 12953 instr_id: 1 profiles removed\n",
      "  ct107-953-13-N2: hr tags with 1501 profiles\n",
      "  ct107-953-13-N2: 0 profiles and 1034 Sprofiles removed\n",
      "Process hr smru_name=ct107-F946-13-N1\n",
      "  SMRU ct107-F946-13-N1, PTT   133782: use crawl locations for fr data\n",
      "  Date issue in ct107-F946-13-N1 hr data, 12946 instr_id: 1 profiles removed\n",
      "  ct107-F946-13-N1: hr tags with 336 profiles\n",
      "  ct107-F946-13-N1: 0 profiles and 0 Sprofiles removed\n",
      "Process hr smru_name=ct107-F995-14\n",
      "  SMRU ct107-F995-14, PTT   137447: use crawl locations for fr data\n",
      "  Date issue in ct107-F995-14 hr data, 12995 instr_id: 1 profiles removed\n",
      "  ct107-F995-14: hr tags with 772 profiles\n",
      "  ct107-F995-14: 0 profiles and 0 Sprofiles removed\n",
      "\n",
      "update_metadata(conf,EXP);\n",
      "\n",
      "apply_adjustments(conf,EXP);\n",
      "\n",
      "apply_tlc(conf,EXP);\n",
      "\n",
      "apply_tlc_fr(conf,EXP);\n",
      "\n",
      "create_hr2(conf,EXP);\n",
      "Create hr2 version [by default, hr1 --> hr2]\n",
      "  ct107-933-13: high resolution fr1 --> hr2\n",
      "  ct107-933b-13: hr1 --> hr2\n",
      "  ct107-934-13-N1: high resolution fr1 --> hr2\n",
      "  ct107-934-13-N2: hr1 --> hr2\n",
      "  ct107-938-13-N1: hr1 --> hr2\n",
      "  ct107-938-13-N2: high resolution fr1 --> hr2\n",
      "  ct107-940-13: hr1 --> hr2\n",
      "  ct107-941-13-N1: high resolution fr1 --> hr2\n",
      "  ct107-941-13-N2: hr1 --> hr2\n",
      "  ct107-947-13-N1: high resolution fr1 --> hr2\n",
      "  ct107-947-13-N2: hr1 --> hr2\n",
      "  ct107-950-13-N1: high resolution fr1 --> hr2\n",
      "  ct107-950-13-N2: hr1 --> hr2\n",
      "  ct107-951-13-N1: high resolution fr1 --> hr2\n",
      "  ct107-951-13-N2: hr1 --> hr2\n",
      "  ct107-952-13-N1: high resolution fr1 --> hr2\n",
      "  ct107-952-13-N2: hr1 --> hr2\n",
      "  ct107-953-13-N1: hr1 --> hr2\n",
      "  ct107-953-13-N2: high resolution fr1 --> hr2\n",
      "  ct107-F945-13: hr1 --> hr2\n",
      "  ct107-F946-13-N1: high resolution fr1 --> hr2\n",
      "  ct107-F946-13-N2: hr1 --> hr2\n",
      "  ct107-F954-14: hr1 --> hr2\n",
      "  ct107-F995-14: high resolution fr1 --> hr2\n",
      "\n"
     ]
    },
    {
     "data": {
      "text/plain": [
       "True"
      ]
     },
     "execution_count": 48,
     "metadata": {},
     "output_type": "execute_result"
    }
   ],
   "source": [
    "meop_process.process_single_deployment(EXP)"
   ]
  },
  {
   "cell_type": "code",
   "execution_count": 39,
   "metadata": {},
   "outputs": [
    {
     "name": "stdout",
     "output_type": "stream",
     "text": [
      "generate_plot1(conf,EXP);\n",
      "Index exceeds the number of array elements (12).\n",
      "\n",
      "Error in generate_plot1 (line 64)\n",
      "        strrep(info_deployment.list_tag(itag).name,'_lr0','_lr1'));\n",
      "\n",
      "\n"
     ]
    },
    {
     "data": {
      "text/plain": [
       "False"
      ]
     },
     "execution_count": 39,
     "metadata": {},
     "output_type": "execute_result"
    }
   ],
   "source": [
    "meop_process.run_command(\"generate_plot1(conf,EXP);\")"
   ]
  },
  {
   "cell_type": "code",
   "execution_count": 9,
   "metadata": {},
   "outputs": [],
   "source": [
    "meop_process.run_command(\"generate_plot2(conf,EXP);\")"
   ]
  },
  {
   "cell_type": "code",
   "execution_count": 47,
   "metadata": {},
   "outputs": [
    {
     "name": "stdout",
     "output_type": "stream",
     "text": [
      "conf = init_mirounga;\n",
      "\n",
      "create_ncargo(conf,EXP,one_smru_name);\n",
      "Process smru_name=ct107-933-13\n",
      "\t24 tags\n",
      "\t4902 profiles\n",
      "  ct107-933-13: 0 profiles and 0 Sprofiles removed\n",
      "SMRU ct107-933-13, PTT   133774: use crawl locations\n",
      "\n",
      "create_fr0(conf,EXP,one_smru_name);\n",
      "Process hr smru_name=ct107-933-13\n",
      "  SMRU ct107-933-13, PTT   133774: use crawl locations for fr data\n",
      "  Date issue in ct107-933-13 hr data, 12933 instr_id: 1 profiles removed\n",
      "  ct107-933-13: hr tags with 475 profiles\n",
      "  ct107-933-13: 0 profiles and 0 Sprofiles removed\n",
      "\n",
      "update_metadata(conf,EXP,one_smru_name);\n",
      "\n",
      "apply_adjustments(conf,EXP,one_smru_name);\n",
      "\n",
      "apply_tlc(conf,EXP,one_smru_name);\n",
      "\n",
      "apply_tlc_fr(conf,EXP,one_smru_name);\n",
      "\n",
      "create_hr2(conf,EXP,one_smru_name);\n",
      "Create hr2 version [by default, hr1 --> hr2]\n",
      "  ct107-933-13: high resolution fr1 --> hr2\n",
      "\n",
      "generate_plot1(conf,EXP,one_smru_name);\n",
      "calibration plots: ct107-933-13\n",
      "\n",
      "generate_plot2(conf,EXP,one_smru_name);\n",
      "plot diag ct107: lr0, raw\n",
      "plot diag ct107: lr1, adj\n",
      "plot diag ct107: hr1, adj\n",
      "plot diag ct107: hr2, adj\n",
      "plot diag ct107: fr1, adj\n",
      "\n"
     ]
    },
    {
     "data": {
      "text/plain": [
       "True"
      ]
     },
     "execution_count": 47,
     "metadata": {},
     "output_type": "execute_result"
    }
   ],
   "source": [
    "one_smru_name='ct107-933-13'\n",
    "meop_process.process_single_tag(one_smru_name=one_smru_name)\n",
    "meop_process.run_command(\"generate_plot1(conf,EXP,one_smru_name);\")\n",
    "meop_process.run_command(\"generate_plot2(conf,EXP,one_smru_name);\")"
   ]
  },
  {
   "cell_type": "code",
   "execution_count": 40,
   "metadata": {},
   "outputs": [],
   "source": [
    "meop_process.stop_matlab()"
   ]
  },
  {
   "cell_type": "code",
   "execution_count": 43,
   "metadata": {},
   "outputs": [
    {
     "name": "stdout",
     "output_type": "stream",
     "text": [
      "matlab started\n",
      "PWD: /home/jupyter-froqu/GitHub/meop_qc/python_toolbox\n",
      "<matlab.engine.matlabengine.MatlabEngine object at 0x7f0de04bded0>\n"
     ]
    }
   ],
   "source": [
    "meop_process.start_matlab()\n",
    "print(meop_process.eng)\n",
    "meop_process.stop_matlab()"
   ]
  },
  {
   "cell_type": "code",
   "execution_count": null,
   "metadata": {},
   "outputs": [],
   "source": []
  }
 ],
 "metadata": {
  "kernelspec": {
   "display_name": "Python 3",
   "language": "python",
   "name": "python3"
  },
  "language_info": {
   "codemirror_mode": {
    "name": "ipython",
    "version": 3
   },
   "file_extension": ".py",
   "mimetype": "text/x-python",
   "name": "python",
   "nbconvert_exporter": "python",
   "pygments_lexer": "ipython3",
   "version": "3.7.8"
  }
 },
 "nbformat": 4,
 "nbformat_minor": 4
}
