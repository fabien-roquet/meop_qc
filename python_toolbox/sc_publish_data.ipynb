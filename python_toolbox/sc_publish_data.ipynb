{
 "cells": [
  {
   "cell_type": "markdown",
   "metadata": {},
   "source": [
    "# Publish data"
   ]
  },
  {
   "cell_type": "code",
   "execution_count": 15,
   "metadata": {},
   "outputs": [],
   "source": [
    "import meop_process\n",
    "from pathlib import Path\n",
    "import sys\n",
    "import os\n",
    "import shutil\n",
    "import numpy as np\n",
    "import pandas as pd\n",
    "import xarray as xr\n",
    "import matplotlib.pyplot as plt\n",
    "import gsw\n",
    "from IPython.display import display,Image\n",
    "from importlib import reload\n",
    "import meop\n",
    "import meop_publish\n",
    "import meop_plot_data\n"
   ]
  },
  {
   "cell_type": "code",
   "execution_count": 8,
   "metadata": {},
   "outputs": [
    {
     "name": "stdout",
     "output_type": "stream",
     "text": [
      "Publish in /media/dropbox/PUBLIC/public/MEOP-CTD_2020-08-29\n"
     ]
    }
   ],
   "source": [
    "print('Publish in',meop_publish.get_folder_public_name())"
   ]
  },
  {
   "cell_type": "code",
   "execution_count": 10,
   "metadata": {},
   "outputs": [],
   "source": [
    "folder_public = Path(meop_publish.get_folder_public_name())\n",
    "list_profiles, list_tags, list_deployments = meop.read_list_profiles(rebuild=False,verbose=False,public=True,Tdata=False)\n",
    "COUNTRY = 'FRANCE'\n",
    "folder_country = folder_public / COUNTRY\n",
    "folder_data = folder_country / 'DATA'\n",
    "list_profiles_country, list_tags_country, list_deployments_country = meop.filter_country(COUNTRY, list_profiles, list_tags, list_deployments)"
   ]
  },
  {
   "cell_type": "code",
   "execution_count": 14,
   "metadata": {},
   "outputs": [
    {
     "data": {
      "text/plain": [
       "PosixPath('/home/jupyter-froqu/MEOP_process/final_dataset_prof/ct11/ct11-10064-05_lr1_prof.nc')"
      ]
     },
     "execution_count": 14,
     "metadata": {},
     "output_type": "execute_result"
    }
   ],
   "source": [
    "tag = list_tags_country.SMRU_PLATFORM_CODE.unique()[0]\n",
    "ncfile_in = meop.fname_prof(tag,qf='lr1')\n",
    "ncfile_in"
   ]
  },
  {
   "cell_type": "code",
   "execution_count": 93,
   "metadata": {},
   "outputs": [
    {
     "data": {
      "text/html": [
       "<div>\n",
       "<style scoped>\n",
       "    .dataframe tbody tr th:only-of-type {\n",
       "        vertical-align: middle;\n",
       "    }\n",
       "\n",
       "    .dataframe tbody tr th {\n",
       "        vertical-align: top;\n",
       "    }\n",
       "\n",
       "    .dataframe thead th {\n",
       "        text-align: right;\n",
       "    }\n",
       "</style>\n",
       "<table border=\"1\" class=\"dataframe\">\n",
       "  <thead>\n",
       "    <tr style=\"text-align: right;\">\n",
       "      <th></th>\n",
       "      <th>SMRU_PLATFORM_CODE</th>\n",
       "      <th>DEPLOYMENT_CODE</th>\n",
       "      <th>JULD</th>\n",
       "      <th>LATITUDE</th>\n",
       "      <th>LONGITUDE</th>\n",
       "      <th>N_PROF_TEMP</th>\n",
       "      <th>N_PROF_PSAL</th>\n",
       "      <th>N_PROF_CHLA</th>\n",
       "      <th>PUBLIC</th>\n",
       "      <th>T1</th>\n",
       "      <th>...</th>\n",
       "      <th>remove</th>\n",
       "      <th>Sremove</th>\n",
       "      <th>comment</th>\n",
       "      <th>variable_offset</th>\n",
       "      <th>instr_id</th>\n",
       "      <th>year</th>\n",
       "      <th>period</th>\n",
       "      <th>continuous</th>\n",
       "      <th>prefix</th>\n",
       "      <th>MASK</th>\n",
       "    </tr>\n",
       "  </thead>\n",
       "  <tbody>\n",
       "    <tr>\n",
       "      <th>160</th>\n",
       "      <td>ct11-10064-05</td>\n",
       "      <td>ct11</td>\n",
       "      <td>2005-09-26 05:39:58.999996</td>\n",
       "      <td>-49.5844</td>\n",
       "      <td>70.9371</td>\n",
       "      <td>115.0</td>\n",
       "      <td>115.0</td>\n",
       "      <td>0.0</td>\n",
       "      <td>1.0</td>\n",
       "      <td>0.0</td>\n",
       "      <td>...</td>\n",
       "      <td>0.0</td>\n",
       "      <td>0.0</td>\n",
       "      <td>no comment</td>\n",
       "      <td>NaN</td>\n",
       "      <td>NaN</td>\n",
       "      <td>NaN</td>\n",
       "      <td>NaN</td>\n",
       "      <td>NaN</td>\n",
       "      <td>NaN</td>\n",
       "      <td>Southern Ocean</td>\n",
       "    </tr>\n",
       "  </tbody>\n",
       "</table>\n",
       "<p>1 rows × 23 columns</p>\n",
       "</div>"
      ],
      "text/plain": [
       "    SMRU_PLATFORM_CODE DEPLOYMENT_CODE                        JULD  LATITUDE  \\\n",
       "160      ct11-10064-05            ct11  2005-09-26 05:39:58.999996  -49.5844   \n",
       "\n",
       "     LONGITUDE  N_PROF_TEMP  N_PROF_PSAL  N_PROF_CHLA  PUBLIC   T1  ...  \\\n",
       "160    70.9371        115.0        115.0          0.0     1.0  0.0  ...   \n",
       "\n",
       "     remove  Sremove     comment  variable_offset  instr_id year  period  \\\n",
       "160     0.0      0.0  no comment              NaN       NaN  NaN     NaN   \n",
       "\n",
       "    continuous prefix            MASK  \n",
       "160        NaN    NaN  Southern Ocean  \n",
       "\n",
       "[1 rows x 23 columns]"
      ]
     },
     "execution_count": 93,
     "metadata": {},
     "output_type": "execute_result"
    }
   ],
   "source": [
    "list_tags_country.loc[list_tags_country.SMRU_PLATFORM_CODE==tag]"
   ]
  },
  {
   "cell_type": "code",
   "execution_count": 20,
   "metadata": {},
   "outputs": [
    {
     "data": {
      "application/vnd.jupyter.widget-view+json": {
       "model_id": "5852b4ad0eb4435191a19fa8ee2f7d85",
       "version_major": 2,
       "version_minor": 0
      },
      "text/plain": [
       "HBox(children=(Image(value=b'\\x89PNG\\r\\n\\x1a\\n\\x00\\x00\\x00\\rIHDR\\x00\\x00\\x0c\\xeb\\x00\\x00\\t\\xb0\\x08\\x02\\x00\\x00…"
      ]
     },
     "metadata": {},
     "output_type": "display_data"
    }
   ],
   "source": [
    "meop_plot_data.show_plots_tag(tag,suffix='_hr2')"
   ]
  },
  {
   "cell_type": "code",
   "execution_count": 61,
   "metadata": {},
   "outputs": [
    {
     "data": {
      "text/plain": [
       "PosixPath('/home/jupyter-froqu/MEOP_process/final_dataset_prof/ct11/ct11-10064-05_all_prof.nc')"
      ]
     },
     "execution_count": 61,
     "metadata": {},
     "output_type": "execute_result"
    }
   ],
   "source": [
    "ncfile_in = meop.fname_prof(tag,qf='lr1')\n",
    "ncfile_out = meop.fname_prof(tag,qf='all')\n",
    "shutil.copyfile(ncfile_in,ncfile_out)"
   ]
  },
  {
   "cell_type": "code",
   "execution_count": 62,
   "metadata": {},
   "outputs": [
    {
     "name": "stdout",
     "output_type": "stream",
     "text": [
      "<class 'netCDF4._netCDF4.Variable'>\n",
      "float32 PRES_ADJUSTED(N_PROF, N_LEVELS)\n",
      "    long_name: SEA PRESSURE\n",
      "    units: decibar\n",
      "    _FillValue: 99999.0\n",
      "    valid_min: 0.0\n",
      "    valid_max: 12000.0\n",
      "    comment: In situ measurement, sea surface = 0\n",
      "unlimited dimensions: \n",
      "current shape = (115, 1000)\n",
      "filling on\n"
     ]
    }
   ],
   "source": [
    "import netCDF4\n",
    "name_prof = ncfile_out\n",
    "name_hr1 = meop.fname_prof(tag,qf='hr1')\n",
    "dimensions = f_hr1.dimensions\n",
    "PRES_ADJUSTED = f_hr1.variables['PRES_ADJUSTED'][:]\n",
    "TEMP_ADJUSTED = f_hr1.variables['TEMP_ADJUSTED'][:]\n",
    "PSAL_ADJUSTED = f_hr1.variables['PSAL_ADJUSTED'][:]\n",
    "print(f_hr1.variables['PRES_ADJUSTED'])"
   ]
  },
  {
   "cell_type": "code",
   "execution_count": 88,
   "metadata": {},
   "outputs": [],
   "source": []
  },
  {
   "cell_type": "code",
   "execution_count": 89,
   "metadata": {},
   "outputs": [
    {
     "data": {
      "text/plain": [
       "1"
      ]
     },
     "execution_count": 89,
     "metadata": {},
     "output_type": "execute_result"
    }
   ],
   "source": []
  },
  {
   "cell_type": "code",
   "execution_count": 91,
   "metadata": {},
   "outputs": [
    {
     "name": "stdout",
     "output_type": "stream",
     "text": [
      "PRES_ADJUSTED [[1.8181251287460327 1.8181626796722412 1.8182036876678467 ... -- -- --]\n",
      " [1.7514309883117676 1.7514327764511108 1.7514349222183228 ... -- -- --]\n",
      " [1.665688157081604 1.6657295227050781 1.6657745838165283 ... -- -- --]\n",
      " ...\n",
      " [4.1882123947143555 4.188213348388672 4.18821382522583 ... -- -- --]\n",
      " [4.092114448547363 4.09211540222168 4.092116355895996 ... -- -- --]\n",
      " [3.8197989463806152 3.819800615310669 3.8198025226593018 ... -- -- --]]\n",
      "PRES_INTERP [[1.8181251287460327 1.8181626796722412 1.8182036876678467 ... -- -- --]\n",
      " [1.7514309883117676 1.7514327764511108 1.7514349222183228 ... -- -- --]\n",
      " [1.665688157081604 1.6657295227050781 1.6657745838165283 ... -- -- --]\n",
      " ...\n",
      " [4.1882123947143555 4.188213348388672 4.18821382522583 ... -- -- --]\n",
      " [4.092114448547363 4.09211540222168 4.092116355895996 ... -- -- --]\n",
      " [3.8197989463806152 3.819800615310669 3.8198025226593018 ... -- -- --]]\n"
     ]
    }
   ],
   "source": [
    "try: f.close()\n",
    "except: pass\n",
    "f = netCDF4.Dataset(name_hr1)\n",
    "print('PRES_ADJUSTED', f.variables['TEMP_ADJUSTED'][:])\n",
    "\n",
    "try: f.close()\n",
    "except: pass\n",
    "f = netCDF4.Dataset(name_prof)\n",
    "print('PRES_INTERP', f.variables['TEMP_INTERP'][:])"
   ]
  },
  {
   "cell_type": "code",
   "execution_count": 24,
   "metadata": {},
   "outputs": [
    {
     "data": {
      "text/plain": [
       "PosixPath('/home/jupyter-froqu/MEOP_process/final_dataset_prof/ct11/ct11-10064-05_all_prof.nc')"
      ]
     },
     "execution_count": 24,
     "metadata": {},
     "output_type": "execute_result"
    }
   ],
   "source": [
    "ncfile_out"
   ]
  },
  {
   "cell_type": "code",
   "execution_count": 27,
   "metadata": {},
   "outputs": [
    {
     "name": "stdout",
     "output_type": "stream",
     "text": [
      "total 69136\n",
      "-rw-r--r-- 1 jupyter-froqu roquet  329780 okt 20 14:44 ct11-10064-05_all_prof.nc\n",
      "-rwxrwxr-x 1 froqu         roquet 5063164 sep 11 09:50 \u001b[0m\u001b[01;32mct11-10064-05_hr0_prof.nc\u001b[0m*\n",
      "-rwxrwxr-x 1 froqu         roquet 5063164 sep 11 09:50 \u001b[01;32mct11-10064-05_hr1_prof.nc\u001b[0m*\n",
      "-rwxrwxr-x 1 froqu         roquet 5063164 sep 11 09:50 \u001b[01;32mct11-10064-05_hr2_prof.nc\u001b[0m*\n",
      "-rwxrwxr-x 1 froqu         roquet  329780 sep 11 09:50 \u001b[01;32mct11-10064-05_lr0_prof.nc\u001b[0m*\n",
      "-rwxrwxr-x 1 froqu         roquet  329780 sep 11 09:50 \u001b[01;32mct11-10064-05_lr1_prof.nc\u001b[0m*\n",
      "-rwxrwxr-x 1 froqu         roquet    2747 sep 11 09:50 \u001b[01;32mct11-10064-05_METADATA.json\u001b[0m*\n",
      "-rwxrwxr-x 1 froqu         roquet    2767 sep 11 09:50 \u001b[01;32mct11-10064-05_METADATA.txt\u001b[0m*\n",
      "-rwxrwxr-x 1 froqu         roquet 6016461 sep 11 09:50 \u001b[01;32mct11-10064-05_ODV.txt\u001b[0m*\n",
      "-rwxrwxr-x 1 froqu         roquet 4184664 sep 11 09:50 \u001b[01;32mct11-10096-05_hr0_prof.nc\u001b[0m*\n",
      "-rwxrwxr-x 1 froqu         roquet 4184664 sep 11 09:50 \u001b[01;32mct11-10096-05_hr1_prof.nc\u001b[0m*\n",
      "-rwxrwxr-x 1 froqu         roquet 4184664 sep 11 09:50 \u001b[01;32mct11-10096-05_hr2_prof.nc\u001b[0m*\n",
      "-rwxrwxr-x 1 froqu         roquet  274480 sep 11 09:50 \u001b[01;32mct11-10096-05_lr0_prof.nc\u001b[0m*\n",
      "-rwxrwxr-x 1 froqu         roquet  274480 sep 11 09:50 \u001b[01;32mct11-10096-05_lr1_prof.nc\u001b[0m*\n",
      "-rwxrwxr-x 1 froqu         roquet    2733 sep 11 09:50 \u001b[01;32mct11-10096-05_METADATA.json\u001b[0m*\n",
      "-rwxrwxr-x 1 froqu         roquet    2764 sep 11 09:50 \u001b[01;32mct11-10096-05_METADATA.txt\u001b[0m*\n",
      "-rwxrwxr-x 1 froqu         roquet 3993417 sep 11 09:50 \u001b[01;32mct11-10096-05_ODV.txt\u001b[0m*\n",
      "-rwxrwxr-x 1 froqu         roquet 7435132 sep 11 09:50 \u001b[01;32mct11-10097-05_hr0_prof.nc\u001b[0m*\n",
      "-rwxrwxr-x 1 froqu         roquet 7435132 sep 11 09:50 \u001b[01;32mct11-10097-05_hr1_prof.nc\u001b[0m*\n",
      "-rwxrwxr-x 1 froqu         roquet 7435132 sep 11 09:50 \u001b[01;32mct11-10097-05_hr2_prof.nc\u001b[0m*\n",
      "-rwxrwxr-x 1 froqu         roquet  479108 sep 11 09:50 \u001b[01;32mct11-10097-05_lr0_prof.nc\u001b[0m*\n",
      "-rwxrwxr-x 1 froqu         roquet  479108 sep 11 09:50 \u001b[01;32mct11-10097-05_lr1_prof.nc\u001b[0m*\n",
      "-rwxrwxr-x 1 froqu         roquet    2735 sep 11 09:50 \u001b[01;32mct11-10097-05_METADATA.json\u001b[0m*\n",
      "-rwxrwxr-x 1 froqu         roquet    2766 sep 11 09:50 \u001b[01;32mct11-10097-05_METADATA.txt\u001b[0m*\n",
      "-rwxrwxr-x 1 froqu         roquet 8171284 sep 11 09:50 \u001b[01;32mct11-10097-05_ODV.txt\u001b[0m*\n",
      "-rwxrwxr-x 1 froqu         roquet     198 sep 11 09:50 \u001b[01;32mct11_diary.txt\u001b[0m*\n"
     ]
    }
   ],
   "source": [
    "ls -l /home/jupyter-froqu/MEOP_process/final_dataset_prof/ct11"
   ]
  },
  {
   "cell_type": "code",
   "execution_count": null,
   "metadata": {},
   "outputs": [],
   "source": []
  }
 ],
 "metadata": {
  "kernelspec": {
   "display_name": "Python 3",
   "language": "python",
   "name": "python3"
  },
  "language_info": {
   "codemirror_mode": {
    "name": "ipython",
    "version": 3
   },
   "file_extension": ".py",
   "mimetype": "text/x-python",
   "name": "python",
   "nbconvert_exporter": "python",
   "pygments_lexer": "ipython3",
   "version": "3.7.8"
  }
 },
 "nbformat": 4,
 "nbformat_minor": 4
}
